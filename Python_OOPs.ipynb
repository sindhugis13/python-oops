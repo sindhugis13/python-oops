{
  "nbformat": 4,
  "nbformat_minor": 0,
  "metadata": {
    "colab": {
      "provenance": []
    },
    "kernelspec": {
      "name": "python3",
      "display_name": "Python 3"
    },
    "language_info": {
      "name": "python"
    }
  },
  "cells": [
    {
      "cell_type": "markdown",
      "source": [
        "#Python OOPs"
      ],
      "metadata": {
        "id": "fCELJlKDOLOO"
      }
    },
    {
      "cell_type": "markdown",
      "source": [
        "1.What is Object-Oriented Programming (OOP)\n",
        "\n",
        " Object-Oriented Programming (OOP) is a programming paradigm based on the concept of objects, which are instances of classes. It helps in structuring code in a more modular, reusable, and scalable way."
      ],
      "metadata": {
        "id": "WXl0HXwVOQDc"
      }
    },
    {
      "cell_type": "markdown",
      "source": [
        "2.What is a class in OOP\n",
        "\n",
        "In Object-Oriented Programming (OOP), a class is a blueprint or template for creating objects, defining their attributes (data) and behaviors (methods).\n"
      ],
      "metadata": {
        "id": "5pX0CYqcOUhs"
      }
    },
    {
      "cell_type": "markdown",
      "source": [
        "3.What is an object in OOP\n",
        "\n",
        "In Object-Oriented Programming (OOP), an object is a fundamental unit that encapsulates data (attributes) and the actions (methods) that operate on that data, representing a specific instance of a class."
      ],
      "metadata": {
        "id": "e7fguvHyOd-M"
      }
    },
    {
      "cell_type": "markdown",
      "source": [
        "4.What is the difference between abstraction and encapsulation\n",
        "\n",
        "Abstraction simplifies complexity by focusing on essential features and hiding unnecessary details, while encapsulation bundles data and methods within a class, restricting direct access to the internal state and promoting data protection."
      ],
      "metadata": {
        "id": "UGX9QYiLOras"
      }
    },
    {
      "cell_type": "markdown",
      "source": [
        "5.What are dunder methods in Python\n",
        "\n",
        "In Python, \"dunder\" methods (short for \"double underscore\" methods) are special methods, also known as \"magic methods,\" that have double underscores at the beginning and end of their names (e.g., __init__, __str__). They allow you to define custom behaviors for built-in operations and functionalities within your classes, making them interact seamlessly with Python's language constructs."
      ],
      "metadata": {
        "id": "Om6qH-VzOuVU"
      }
    },
    {
      "cell_type": "markdown",
      "source": [
        "6.Explain the concept of inheritance in OOP\n",
        "\n",
        "In Object-Oriented Programming (OOP), inheritance is a mechanism where a new class (subclass or child class) inherits properties and behaviors from an existing class (superclass or parent class), promoting code reuse and hierarchical relationships between classes."
      ],
      "metadata": {
        "id": "a4cb1o_sOzLM"
      }
    },
    {
      "cell_type": "markdown",
      "source": [
        "7.What is polymorphism in OOP\n",
        "\n",
        "In object-oriented programming (OOP), polymorphism means \"many forms\" and allows objects of different classes to be treated as objects of a common superclass, enabling code reusability and flexibility by allowing multiple classes to implement the same method in different ways."
      ],
      "metadata": {
        "id": "LZ1yk2rQO2As"
      }
    },
    {
      "cell_type": "markdown",
      "source": [
        "8.How is encapsulation achieved in Python\n",
        "\n",
        "In Python, encapsulation, the bundling of data and methods that operate on that data within a class, is achieved through conventions and practices rather than enforced access modifiers like public, private, or protected as in other languages."
      ],
      "metadata": {
        "id": "8sIiOtaJO708"
      }
    },
    {
      "cell_type": "markdown",
      "source": [
        "9.What is a constructor in Python\n",
        "\n",
        "In Python, a constructor is a special method, conventionally named __init__, that initializes the attributes of a class when an object is created. It's automatically called when an object is instantiated, allowing you to set up the object's initial state."
      ],
      "metadata": {
        "id": "OzH5Y4PeO_vc"
      }
    },
    {
      "cell_type": "markdown",
      "source": [
        "10.What are class and static methods in Python\n",
        "\n",
        "Class Methods and Static Methods in Python\n",
        "Python provides class methods and static methods as alternatives to instance methods. Both are used when you don't need to operate on a specific instance of a class."
      ],
      "metadata": {
        "id": "kQpG6oGuPDfs"
      }
    },
    {
      "cell_type": "markdown",
      "source": [
        "11.What is method overloading in Python\n",
        "\n",
        "In Python, while the term \"method overloading\" is often used, it's not implemented in the way it is in languages like Java or C++. Instead, Python achieves similar flexibility using default arguments, variable-length arguments (*args, **kwargs), and conditional logic within a single method definition."
      ],
      "metadata": {
        "id": "xB4BfAlyPGE8"
      }
    },
    {
      "cell_type": "markdown",
      "source": [
        "12.What is method overriding in OOP\n",
        "\n",
        "In Object-Oriented Programming (OOP), method overriding allows a subclass to provide a specific implementation of a method that is already defined in its superclass, enabling polymorphism and customized behavior."
      ],
      "metadata": {
        "id": "SupYalU_PItU"
      }
    },
    {
      "cell_type": "markdown",
      "source": [
        "13.What is a property decorator in Python\n",
        "\n",
        "Property Decorator (@property) in Python\n",
        "The @property decorator in Python is used to define getter methods for class attributes, allowing controlled access without calling a method explicitly. It makes a method behave like an attribute, enhancing encapsulation and data hiding."
      ],
      "metadata": {
        "id": "o7rfcuepPTdU"
      }
    },
    {
      "cell_type": "markdown",
      "source": [
        "14.Why is polymorphism important in OOP\n",
        "\n",
        "Polymorphism is crucial in Object-Oriented Programming (OOP) because it enables code reusability, flexibility, and extensibility by allowing objects of different types to be treated as objects of a common type, promoting a more adaptable and maintainable codebase."
      ],
      "metadata": {
        "id": "nDEoaVzUOaWk"
      }
    },
    {
      "cell_type": "markdown",
      "source": [
        "15.What is an abstract class in Python\n",
        "\n",
        "In Python, an abstract class is a blueprint for other classes, containing abstract methods (methods with declarations but no implementations) that must be implemented by its subclasses. You cannot create instances of an abstract class directly, but rather use it as a base class for other classes."
      ],
      "metadata": {
        "id": "p_LhEzr3PbHs"
      }
    },
    {
      "cell_type": "markdown",
      "source": [
        "16.What are the advantages of OOP\n",
        "\n",
        "Object-Oriented Programming (OOP) offers advantages like improved code organization, reusability through inheritance, flexibility with polymorphism, and simplification of complex systems through abstraction, leading to modular, maintainable, and scalable software solutions."
      ],
      "metadata": {
        "id": "xwGKyFglPeI8"
      }
    },
    {
      "cell_type": "markdown",
      "source": [
        "17.What is the difference between a class variable and an instance variable\n",
        "\n",
        "In object-oriented programming, a class variable (also known as a static variable) is shared across all instances (objects) of a class, while an instance variable is unique to each instance."
      ],
      "metadata": {
        "id": "aUaMxWDePgxE"
      }
    },
    {
      "cell_type": "markdown",
      "source": [
        "18.What is multiple inheritance in Python\n",
        "\n",
        "In Python, multiple inheritance allows a class to inherit attributes and methods from more than one parent class, enabling a class to combine behaviors or attributes from multiple sources."
      ],
      "metadata": {
        "id": "d9HYqfhYPjGs"
      }
    },
    {
      "cell_type": "markdown",
      "source": [
        "19.Explain the purpose of ‘’__str__’ and ‘__repr__’ ‘ methods in Python\n",
        "\n",
        "In Python, __str__ provides a user-friendly, informal string representation of an object, while __repr__ offers a more formal, unambiguous representation, often for debugging and development purposes.\n",
        "\n",
        "Here's a more detailed explanation:\n",
        "\n",
        "*This method is called by the built-in str() function and the print() function when you want to display an object's string representation to the user.\n",
        "\n",
        "*The goal of __str__ is to provide a readable, human-friendly representation of the object.\n",
        "\n",
        "*If you don't define a __str__ method, Python will fall back to using the __repr__ method (if defined)."
      ],
      "metadata": {
        "id": "sZZ6T_SzPl6E"
      }
    },
    {
      "cell_type": "markdown",
      "source": [
        "20.What is the significance of the ‘super()’ function in Python\n",
        "\n",
        "In Python, the super() function is a built-in function used to call methods defined in the parent (or super) class from a subclass, enabling code reuse and facilitating inheritance. It allows you to access and extend the functionality of the parent class without explicitly naming the parent class."
      ],
      "metadata": {
        "id": "u1RsSFC0Po3U"
      }
    },
    {
      "cell_type": "markdown",
      "source": [
        "21.What is the significance of the __del__ method in Python\n",
        "\n",
        "In Python, the __del__ method, also known as a destructor, is called by the garbage collector when an object is about to be destroyed, allowing for cleanup of resources held by the object. However, it's important to note that its execution is not guaranteed and can occur at an unpredictable time."
      ],
      "metadata": {
        "id": "YZaM3qV-PrYM"
      }
    },
    {
      "cell_type": "markdown",
      "source": [
        "22.What is the difference between @staticmethod and @classmethod in Python\n",
        "\n",
        "In Python, @classmethod binds a method to the class itself (accessed via cls), while @staticmethod binds a method to the class namespace without any implicit arguments, making it behave like a regular function within the class.\n"
      ],
      "metadata": {
        "id": "GMx2Ax7sPuvc"
      }
    },
    {
      "cell_type": "markdown",
      "source": [
        "23.How does polymorphism work in Python with inheritance\n",
        "\n",
        "In Python, polymorphism with inheritance is achieved through method overriding, where a child class can redefine a method inherited from its parent class, allowing different classes to respond to the same method call in their own way."
      ],
      "metadata": {
        "id": "uTE0SrfOPyVz"
      }
    },
    {
      "cell_type": "markdown",
      "source": [
        "24.What is method chaining in Python OOP\n",
        "\n",
        "In Python object-oriented programming (OOP), method chaining allows you to call multiple methods sequentially on the same object in a single line by having each method return the object itself, enabling a fluent and readable code style."
      ],
      "metadata": {
        "id": "cdX_dWafP07c"
      }
    },
    {
      "cell_type": "markdown",
      "source": [
        "25.What is the purpose of the __call__ method in Python\n",
        "\n",
        "The __call__ method in Python allows you to make an instance of a class callable, meaning you can call it like a function (e.g., instance())."
      ],
      "metadata": {
        "id": "yMrsXxZ2P50s"
      }
    },
    {
      "cell_type": "code",
      "source": [
        "#Practical Questions"
      ],
      "metadata": {
        "id": "-4BrnMYtQW49"
      },
      "execution_count": 3,
      "outputs": []
    },
    {
      "cell_type": "markdown",
      "source": [
        "1. Create a parent class Animal with a method speak() that prints a generic message. Create a child class Dog\n",
        "that overrides the speak() method to print \"Bark!\""
      ],
      "metadata": {
        "id": "sBkFraAUQc5M"
      }
    },
    {
      "cell_type": "code",
      "source": [
        "\n",
        "class Animal:\n",
        "    def speak(self):\n",
        "        print(\"This animal makes a sound.\")\n",
        "\n",
        "class Dog(Animal):\n",
        "    def speak(self):\n",
        "        print(\"Bark!\")\n",
        "\n",
        "\n",
        "animal = Animal()\n",
        "animal.speak()\n",
        "\n",
        "dog = Dog()\n",
        "dog.speak()\n"
      ],
      "metadata": {
        "colab": {
          "base_uri": "https://localhost:8080/"
        },
        "id": "zogmJBA1QnIs",
        "outputId": "7de9e8de-3668-4261-cf4b-ad4a9c4da22e"
      },
      "execution_count": 4,
      "outputs": [
        {
          "output_type": "stream",
          "name": "stdout",
          "text": [
            "This animal makes a sound.\n",
            "Bark!\n"
          ]
        }
      ]
    },
    {
      "cell_type": "markdown",
      "source": [
        "2.Write a program to create an abstract class Shape with a method area(). Derive classes Circle and Rectangle\n",
        "from it and implement the area() method in both"
      ],
      "metadata": {
        "id": "tERnkk35Qndk"
      }
    },
    {
      "cell_type": "code",
      "source": [
        "from abc import ABC, abstractmethod\n",
        "import math\n",
        "\n",
        "\n",
        "class Shape(ABC):\n",
        "    @abstractmethod\n",
        "    def area(self):\n",
        "        \"\"\"Abstract method to calculate area.\"\"\"\n",
        "        pass\n",
        "\n",
        "\n",
        "class Circle(Shape):\n",
        "    def __init__(self, radius):\n",
        "        self.radius = radius\n",
        "\n",
        "    def area(self):\n",
        "        return math.pi * self.radius ** 2\n",
        "\n",
        "class Rectangle(Shape):\n",
        "    def __init__(self, width, height):\n",
        "        self.width = width\n",
        "        self.height = height\n",
        "\n",
        "    def area(self):\n",
        "        return self.width * self.height\n",
        "\n",
        "circle = Circle(7)\n",
        "rectangle = Rectangle(5, 10)\n",
        "\n",
        "print(f\"Circle Area: {circle.area():.2f}\")\n",
        "print(f\"Rectangle Area: {rectangle.area()}\")\n"
      ],
      "metadata": {
        "colab": {
          "base_uri": "https://localhost:8080/"
        },
        "id": "hFiG-adTR-rk",
        "outputId": "d104465f-6b2a-4065-ccac-d4cecd40924d"
      },
      "execution_count": 7,
      "outputs": [
        {
          "output_type": "stream",
          "name": "stdout",
          "text": [
            "Circle Area: 153.94\n",
            "Rectangle Area: 50\n"
          ]
        }
      ]
    },
    {
      "cell_type": "markdown",
      "source": [
        "3. Implement a multi-level inheritance scenario where a class Vehicle has an attribute type. Derive a class Car\n",
        "and further derive a class ElectricCar that adds a battery attribute"
      ],
      "metadata": {
        "id": "-9bbD6jYQrJc"
      }
    },
    {
      "cell_type": "code",
      "source": [
        "class Vehicle:\n",
        "    def __init__(self, type):\n",
        "        self.type = type\n",
        "\n",
        "    def show_type(self):\n",
        "        print(f\"Vehicle Type: {self.type}\")\n",
        "\n",
        "class Car(Vehicle):\n",
        "    def __init__(self, type, brand):\n",
        "        super().__init__(type)\n",
        "        self.brand = brand\n",
        "\n",
        "    def show_details(self):\n",
        "        print(f\"Car Brand: {self.brand}\")\n",
        "\n",
        "\n",
        "class ElectricCar(Car):\n",
        "    def __init__(self, type, brand, battery_capacity):\n",
        "        super().__init__(type, brand)\n",
        "        self.battery_capacity = battery_capacity\n",
        "\n",
        "    def show_battery(self):\n",
        "        print(f\"Battery Capacity: {self.battery_capacity} kWh\")\n",
        "\n",
        "\n",
        "ev = ElectricCar(\"Electric\", \"Tesla\", 75)\n",
        "\n",
        "ev.show_type()\n",
        "ev.show_details()\n",
        "ev.show_battery()\n"
      ],
      "metadata": {
        "colab": {
          "base_uri": "https://localhost:8080/"
        },
        "id": "b723tVN9QuBk",
        "outputId": "b62638f9-5dfb-4fd4-a7fa-894c56f94e14"
      },
      "execution_count": 8,
      "outputs": [
        {
          "output_type": "stream",
          "name": "stdout",
          "text": [
            "Vehicle Type: Electric\n",
            "Car Brand: Tesla\n",
            "Battery Capacity: 75 kWh\n"
          ]
        }
      ]
    },
    {
      "cell_type": "markdown",
      "source": [
        "4. Demonstrate polymorphism by creating a base class Bird with a method fly(). Create two derived classes\n",
        "Sparrow and Penguin that override the fly() method"
      ],
      "metadata": {
        "id": "K2ZAwvnwQuQW"
      }
    },
    {
      "cell_type": "code",
      "source": [
        "\n",
        "class Bird:\n",
        "    def fly(self):\n",
        "        print(\"Some birds can fly.\")\n",
        "\n",
        "\n",
        "class Sparrow(Bird):\n",
        "    def fly(self):\n",
        "        print(\"Sparrow flies high in the sky!\")\n",
        "\n",
        "\n",
        "class Penguin(Bird):\n",
        "    def fly(self):\n",
        "        print(\"Penguins cannot fly, they swim instead!\")\n",
        "\n",
        "def bird_flight(bird):\n",
        "    bird.fly()\n",
        "\n",
        "\n",
        "sparrow = Sparrow()\n",
        "penguin = Penguin()\n",
        "\n",
        "bird_flight(sparrow)\n",
        "bird_flight(penguin)\n"
      ],
      "metadata": {
        "colab": {
          "base_uri": "https://localhost:8080/"
        },
        "id": "pkf3_qqyQxVM",
        "outputId": "37e3a7cd-85e9-4e17-afb9-a00874aa3d91"
      },
      "execution_count": 9,
      "outputs": [
        {
          "output_type": "stream",
          "name": "stdout",
          "text": [
            "Sparrow flies high in the sky!\n",
            "Penguins cannot fly, they swim instead!\n"
          ]
        }
      ]
    },
    {
      "cell_type": "markdown",
      "source": [
        "5.Write a program to demonstrate encapsulation by creating a class BankAccount with private attributes\n",
        "balance and methods to deposit, withdraw, and check balance"
      ],
      "metadata": {
        "id": "_ak--UL8Qxkt"
      }
    },
    {
      "cell_type": "code",
      "source": [
        "class BankAccount:\n",
        "    def __init__(self, account_holder, balance=0):\n",
        "        self.account_holder = account_holder\n",
        "        self.__balance = balance\n",
        "    def deposit(self, amount):\n",
        "        if amount > 0:\n",
        "            self.__balance += amount\n",
        "            print(f\"Deposited ${amount}. New balance: ${self.__balance}\")\n",
        "        else:\n",
        "            print(\"Deposit amount must be positive.\")\n",
        "\n",
        "    def withdraw(self, amount):\n",
        "        if 0 < amount <= self.__balance:\n",
        "            self.__balance -= amount\n",
        "            print(f\"Withdrew ${amount}. New balance: ${self.__balance}\")\n",
        "        else:\n",
        "            print(\"Insufficient funds or invalid amount.\")\n",
        "\n",
        "    def check_balance(self):\n",
        "        print(f\"Account balance for {self.account_holder}: ${self.__balance}\")\n",
        "\n",
        "\n",
        "account = BankAccount(\"John Doe\", 1000)\n",
        "\n",
        "account.deposit(500)\n",
        "account.withdraw(200)\n",
        "account.check_balance()\n",
        "\n",
        "\n"
      ],
      "metadata": {
        "colab": {
          "base_uri": "https://localhost:8080/"
        },
        "id": "7gX8vZR0Qz6k",
        "outputId": "8084873f-aa3e-4f98-82f4-c515c44706f1"
      },
      "execution_count": 10,
      "outputs": [
        {
          "output_type": "stream",
          "name": "stdout",
          "text": [
            "Deposited $500. New balance: $1500\n",
            "Withdrew $200. New balance: $1300\n",
            "Account balance for John Doe: $1300\n"
          ]
        }
      ]
    },
    {
      "cell_type": "markdown",
      "source": [
        "6. Demonstrate runtime polymorphism using a method play() in a base class Instrument. Derive classes Guitar\n",
        "and Piano that implement their own version of play()"
      ],
      "metadata": {
        "id": "14FsaLP8Q0Ks"
      }
    },
    {
      "cell_type": "code",
      "source": [
        "\n",
        "class Instrument:\n",
        "    def play(self):\n",
        "        print(\"Playing an instrument.\")\n",
        "\n",
        "\n",
        "class Guitar(Instrument):\n",
        "    def play(self):\n",
        "        print(\"Strumming the guitar!\")\n",
        "\n",
        "\n",
        "class Piano(Instrument):\n",
        "    def play(self):\n",
        "        print(\"Playing the piano keys!\")\n",
        "\n",
        "\n",
        "def perform(instrument):\n",
        "    instrument.play()\n",
        "\n",
        "guitar = Guitar()\n",
        "piano = Piano()\n",
        "\n",
        "perform(guitar)\n",
        "perform(piano)\n"
      ],
      "metadata": {
        "colab": {
          "base_uri": "https://localhost:8080/"
        },
        "id": "ERBKi_-eQ3E0",
        "outputId": "ffa978f8-6869-4b42-bbcc-5f8d5cbeec56"
      },
      "execution_count": 11,
      "outputs": [
        {
          "output_type": "stream",
          "name": "stdout",
          "text": [
            "Strumming the guitar!\n",
            "Playing the piano keys!\n"
          ]
        }
      ]
    },
    {
      "cell_type": "markdown",
      "source": [
        "7. Create a class MathOperations with a class method add_numbers() to add two numbers and a static\n",
        "method subtract_numbers() to subtract two numbers"
      ],
      "metadata": {
        "id": "SGTJkD-TQ3ZM"
      }
    },
    {
      "cell_type": "code",
      "source": [
        "class MathOperations:\n",
        "    @classmethod\n",
        "    def add_numbers(cls, a, b):\n",
        "        \"\"\"Class method to add two numbers.\"\"\"\n",
        "        return a + b\n",
        "\n",
        "    @staticmethod\n",
        "    def subtract_numbers(a, b):\n",
        "        \"\"\"Static method to subtract two numbers.\"\"\"\n",
        "        return a - b\n",
        "\n",
        "\n",
        "print(MathOperations.add_numbers(10, 5))\n",
        "print(MathOperations.subtract_numbers(10, 5))\n"
      ],
      "metadata": {
        "colab": {
          "base_uri": "https://localhost:8080/"
        },
        "id": "c5cQhKlOQ6gE",
        "outputId": "2d23032e-f505-41bf-c2fb-de0aa77f33ea"
      },
      "execution_count": 12,
      "outputs": [
        {
          "output_type": "stream",
          "name": "stdout",
          "text": [
            "15\n",
            "5\n"
          ]
        }
      ]
    },
    {
      "cell_type": "markdown",
      "source": [
        "8. Implement a class Person with a class method to count the total number of persons created"
      ],
      "metadata": {
        "id": "aspnYAXVQ6xE"
      }
    },
    {
      "cell_type": "code",
      "source": [
        "class Person:\n",
        "    count = 0\n",
        "\n",
        "    def __init__(self, name):\n",
        "        self.name = name\n",
        "        Person.count += 1\n",
        "\n",
        "    @classmethod\n",
        "    def get_person_count(cls):\n",
        "        \"\"\"Class method to return the total number of persons created.\"\"\"\n",
        "        return cls.count\n",
        "\n",
        "\n",
        "p1 = Person(\"Alice\")\n",
        "p2 = Person(\"Bob\")\n",
        "p3 = Person(\"Charlie\")\n",
        "\n",
        "print(f\"Total persons created: {Person.get_person_count()}\")\n"
      ],
      "metadata": {
        "colab": {
          "base_uri": "https://localhost:8080/"
        },
        "id": "yIStRqWRQ9cN",
        "outputId": "c5879c43-343b-4299-b624-e56be331900a"
      },
      "execution_count": 13,
      "outputs": [
        {
          "output_type": "stream",
          "name": "stdout",
          "text": [
            "Total persons created: 3\n"
          ]
        }
      ]
    },
    {
      "cell_type": "markdown",
      "source": [
        "9.Write a class Fraction with attributes numerator and denominator. Override the str method to display the\n",
        "fraction as \"numerator/denominator\""
      ],
      "metadata": {
        "id": "kZmwGOV7Q9uN"
      }
    },
    {
      "cell_type": "code",
      "source": [
        "class Fraction:\n",
        "    def __init__(self, numerator, denominator):\n",
        "        if denominator == 0:\n",
        "            raise ValueError(\"Denominator cannot be zero.\")\n",
        "        self.numerator = numerator\n",
        "        self.denominator = denominator\n",
        "\n",
        "    def __str__(self):\n",
        "        \"\"\"Override str() method to display fraction in 'numerator/denominator' format.\"\"\"\n",
        "        return f\"{self.numerator}/{self.denominator}\"\n",
        "\n",
        "\n",
        "f1 = Fraction(3, 4)\n",
        "f2 = Fraction(5, 8)\n",
        "\n",
        "print(f1)\n",
        "print(f2)\n"
      ],
      "metadata": {
        "colab": {
          "base_uri": "https://localhost:8080/"
        },
        "id": "L7s2_j9TRDFc",
        "outputId": "b03e48f0-a709-43b9-b494-95b1a790563a"
      },
      "execution_count": 14,
      "outputs": [
        {
          "output_type": "stream",
          "name": "stdout",
          "text": [
            "3/4\n",
            "5/8\n"
          ]
        }
      ]
    },
    {
      "cell_type": "markdown",
      "source": [
        "10.Demonstrate operator overloading by creating a class Vector and overriding the add method to add two\n",
        "vectors."
      ],
      "metadata": {
        "id": "rXIZfSVbRDWs"
      }
    },
    {
      "cell_type": "code",
      "source": [
        "class Vector:\n",
        "    def __init__(self, x, y):\n",
        "        self.x = x\n",
        "        self.y = y\n",
        "\n",
        "    def __add__(self, other):\n",
        "        \"\"\"Override + operator to add two vectors.\"\"\"\n",
        "        return Vector(self.x + other.x, self.y + other.y)\n",
        "\n",
        "    def __str__(self):\n",
        "        \"\"\"Override str() to display vector in a readable format.\"\"\"\n",
        "        return f\"({self.x}, {self.y})\"\n",
        "\n",
        "\n",
        "v1 = Vector(2, 3)\n",
        "v2 = Vector(4, 5)\n",
        "\n",
        "v3 = v1 + v2\n",
        "\n",
        "print(f\"Vector 1: {v1}\")\n",
        "print(f\"Vector 2: {v2}\")\n",
        "print(f\"Sum of Vectors: {v3}\")\n"
      ],
      "metadata": {
        "colab": {
          "base_uri": "https://localhost:8080/"
        },
        "id": "Vb344SezRF7E",
        "outputId": "668820dc-fddd-4999-a8d9-4bc2670c115e"
      },
      "execution_count": 15,
      "outputs": [
        {
          "output_type": "stream",
          "name": "stdout",
          "text": [
            "Vector 1: (2, 3)\n",
            "Vector 2: (4, 5)\n",
            "Sum of Vectors: (6, 8)\n"
          ]
        }
      ]
    },
    {
      "cell_type": "markdown",
      "source": [
        "11.Create a class Person with attributes name and age. Add a method greet() that prints \"Hello, my name is\n",
        "{name} and I am {age} years old.\""
      ],
      "metadata": {
        "id": "FbCCPLYrRGQE"
      }
    },
    {
      "cell_type": "code",
      "source": [
        "class Person:\n",
        "    def __init__(self, name, age):\n",
        "        self.name = name\n",
        "        self.age = age\n",
        "\n",
        "    def greet(self):\n",
        "        \"\"\"Prints a greeting message with the person's name and age.\"\"\"\n",
        "        print(f\"Hello, my name is {self.name} and I am {self.age} years old.\")\n",
        "\n",
        "\n",
        "p1 = Person(\"Alice\", 25)\n",
        "p2 = Person(\"Bob\", 30)\n",
        "\n",
        "p1.greet()\n",
        "p2.greet()\n"
      ],
      "metadata": {
        "colab": {
          "base_uri": "https://localhost:8080/"
        },
        "id": "yNcmHjiTRLst",
        "outputId": "704bb5dc-ed57-4cf2-d572-d0300838c356"
      },
      "execution_count": 16,
      "outputs": [
        {
          "output_type": "stream",
          "name": "stdout",
          "text": [
            "Hello, my name is Alice and I am 25 years old.\n",
            "Hello, my name is Bob and I am 30 years old.\n"
          ]
        }
      ]
    },
    {
      "cell_type": "markdown",
      "source": [
        "12.Implement a class Student with attributes name and grades. Create a method average_grade() to compute\n",
        "the average of the grades."
      ],
      "metadata": {
        "id": "u7Nw7V_cRMA8"
      }
    },
    {
      "cell_type": "code",
      "source": [
        "class Student:\n",
        "    def __init__(self, name, grades):\n",
        "        self.name = name\n",
        "        self.grades = grades\n",
        "\n",
        "    def average_grade(self):\n",
        "        \"\"\"Computes and returns the average of the student's grades.\"\"\"\n",
        "        if self.grades:\n",
        "            return sum(self.grades) / len(self.grades)\n",
        "        return 0\n",
        "\n",
        "s1 = Student(\"Alice\", [85, 90, 78, 92])\n",
        "s2 = Student(\"Bob\", [75, 80, 70, 85, 90])\n",
        "\n",
        "print(f\"{s1.name}'s average grade: {s1.average_grade():.2f}\")\n",
        "print(f\"{s2.name}'s average grade: {s2.average_grade():.2f}\")\n"
      ],
      "metadata": {
        "colab": {
          "base_uri": "https://localhost:8080/"
        },
        "id": "sRqF-r7zRPPc",
        "outputId": "58b2f6c5-990b-485f-a8b7-e0167fb5c7bc"
      },
      "execution_count": 17,
      "outputs": [
        {
          "output_type": "stream",
          "name": "stdout",
          "text": [
            "Alice's average grade: 86.25\n",
            "Bob's average grade: 80.00\n"
          ]
        }
      ]
    },
    {
      "cell_type": "markdown",
      "source": [
        "13.Create a class Rectangle with methods set_dimensions() to set the dimensions and area() to calculate the\n",
        "area."
      ],
      "metadata": {
        "id": "1p3qOP7kRPiM"
      }
    },
    {
      "cell_type": "code",
      "source": [
        "class Rectangle:\n",
        "    def __init__(self, width=0, height=0):\n",
        "        self.width = width\n",
        "        self.height = height\n",
        "\n",
        "    def set_dimensions(self, width, height):\n",
        "        \"\"\"Sets the dimensions of the rectangle.\"\"\"\n",
        "        self.width = width\n",
        "        self.height = height\n",
        "\n",
        "    def area(self):\n",
        "        \"\"\"Calculates and returns the area of the rectangle.\"\"\"\n",
        "        return self.width * self.height\n",
        "\n",
        "\n",
        "rect = Rectangle()\n",
        "rect.set_dimensions(5, 10)\n",
        "print(f\"Rectangle Area: {rect.area()}\")\n"
      ],
      "metadata": {
        "colab": {
          "base_uri": "https://localhost:8080/"
        },
        "id": "hh5immwjRRws",
        "outputId": "3f0a8623-25f8-4e86-b21d-7875d2d3ec93"
      },
      "execution_count": 18,
      "outputs": [
        {
          "output_type": "stream",
          "name": "stdout",
          "text": [
            "Rectangle Area: 50\n"
          ]
        }
      ]
    },
    {
      "cell_type": "markdown",
      "source": [
        "14.Create a class Employee with a method calculate_salary() that computes the salary based on hours worked\n",
        "and hourly rate. Create a derived class Manager that adds a bonus to the salary."
      ],
      "metadata": {
        "id": "UjDp6uNHRSU9"
      }
    },
    {
      "cell_type": "code",
      "source": [
        "\n",
        "class Employee:\n",
        "    def __init__(self, name, hours_worked, hourly_rate):\n",
        "        self.name = name\n",
        "        self.hours_worked = hours_worked\n",
        "        self.hourly_rate = hourly_rate\n",
        "\n",
        "    def calculate_salary(self):\n",
        "        \"\"\"Computes salary based on hours worked and hourly rate.\"\"\"\n",
        "        return self.hours_worked * self.hourly_rate\n",
        "\n",
        "\n",
        "class Manager(Employee):\n",
        "    def __init__(self, name, hours_worked, hourly_rate, bonus):\n",
        "        super().__init__(name, hours_worked, hourly_rate)\n",
        "        self.bonus = bonus\n",
        "\n",
        "    def calculate_salary(self):\n",
        "        \"\"\"Computes salary including a bonus for managers.\"\"\"\n",
        "        base_salary = super().calculate_salary()\n",
        "        return base_salary + self.bonus\n",
        "\n",
        "emp = Employee(\"John\", 40, 20)\n",
        "mgr = Manager(\"Alice\", 40, 30, 500)\n",
        "\n",
        "print(f\"{emp.name}'s Salary: ${emp.calculate_salary()}\")\n",
        "print(f\"{mgr.name}'s Salary: ${mgr.calculate_salary()}\")\n",
        "\n"
      ],
      "metadata": {
        "colab": {
          "base_uri": "https://localhost:8080/"
        },
        "id": "idsVihQfRVIs",
        "outputId": "c3fbb54d-3477-4d6a-f8e5-b5cec15871f9"
      },
      "execution_count": 20,
      "outputs": [
        {
          "output_type": "stream",
          "name": "stdout",
          "text": [
            "John's Salary: $800\n",
            "Alice's Salary: $1700\n"
          ]
        }
      ]
    },
    {
      "cell_type": "markdown",
      "source": [
        "15. Create a class Product with attributes name, price, and quantity. Implement a method total_price() that\n",
        "calculates the total price of the product."
      ],
      "metadata": {
        "id": "x6E8AzH5RVZ8"
      }
    },
    {
      "cell_type": "code",
      "source": [
        "class Product:\n",
        "    def __init__(self, name, price, quantity):\n",
        "        self.name = name\n",
        "        self.price = price\n",
        "        self.quantity = quantity\n",
        "\n",
        "    def total_price(self):\n",
        "        \"\"\"Calculates and returns the total price of the product.\"\"\"\n",
        "        return self.price * self.quantity\n",
        "\n",
        "\n",
        "product1 = Product(\"Laptop\", 800, 2)\n",
        "product2 = Product(\"Phone\", 500, 3)\n",
        "\n",
        "print(f\"Total price of {product1.name}: ${product1.total_price()}\")\n",
        "print(f\"Total price of {product2.name}: ${product2.total_price()}\")\n"
      ],
      "metadata": {
        "colab": {
          "base_uri": "https://localhost:8080/"
        },
        "id": "BI9MHDOsRYCs",
        "outputId": "38e520cf-4e17-4218-f791-839cc329515e"
      },
      "execution_count": 21,
      "outputs": [
        {
          "output_type": "stream",
          "name": "stdout",
          "text": [
            "Total price of Laptop: $1600\n",
            "Total price of Phone: $1500\n"
          ]
        }
      ]
    },
    {
      "cell_type": "markdown",
      "source": [
        "16. Create a class Animal with an abstract method sound(). Create two derived classes Cow and Sheep that\n",
        "implement the sound() method."
      ],
      "metadata": {
        "id": "zdHojRqtRYTt"
      }
    },
    {
      "cell_type": "code",
      "source": [
        "from abc import ABC, abstractmethod\n",
        "\n",
        "\n",
        "class Animal(ABC):\n",
        "    @abstractmethod\n",
        "    def sound(self):\n",
        "        \"\"\"Abstract method to be implemented by subclasses.\"\"\"\n",
        "        pass\n",
        "\n",
        "\n",
        "class Cow(Animal):\n",
        "    def sound(self):\n",
        "        print(\"Cow says: Moo!\")\n",
        "\n",
        "\n",
        "class Sheep(Animal):\n",
        "    def sound(self):\n",
        "        print(\"Sheep says: Baa!\")\n",
        "\n",
        "\n",
        "cow = Cow()\n",
        "sheep = Sheep()\n",
        "\n",
        "cow.sound()\n",
        "sheep.sound()\n"
      ],
      "metadata": {
        "colab": {
          "base_uri": "https://localhost:8080/"
        },
        "id": "e64brk0oRap8",
        "outputId": "8f209e8f-257e-454f-d3f2-9ba0cc8ad9fd"
      },
      "execution_count": 22,
      "outputs": [
        {
          "output_type": "stream",
          "name": "stdout",
          "text": [
            "Cow says: Moo!\n",
            "Sheep says: Baa!\n"
          ]
        }
      ]
    },
    {
      "cell_type": "markdown",
      "source": [
        "17. Create a class Book with attributes title, author, and year_published. Add a method get_book_info() that\n",
        "returns a formatted string with the book's details."
      ],
      "metadata": {
        "id": "bhxO3V00Ra69"
      }
    },
    {
      "cell_type": "code",
      "source": [
        "class Book:\n",
        "    def __init__(self, title, author, year_published):\n",
        "        self.title = title\n",
        "        self.author = author\n",
        "        self.year_published = year_published\n",
        "\n",
        "    def get_book_info(self):\n",
        "        \"\"\"Returns a formatted string with book details.\"\"\"\n",
        "        return f\"'{self.title}' by {self.author}, published in {self.year_published}.\"\n",
        "\n",
        "#\n",
        "book1 = Book(\"To Kill a Mockingbird\", \"Harper Lee\", 1960)\n",
        "book2 = Book(\"1984\", \"George Orwell\", 1949)\n",
        "\n",
        "print(book1.get_book_info())\n",
        "print(book2.get_book_info())\n"
      ],
      "metadata": {
        "colab": {
          "base_uri": "https://localhost:8080/"
        },
        "id": "CYkF2JW7RdU8",
        "outputId": "d9492c5c-d709-422d-e61b-0608427825e9"
      },
      "execution_count": 23,
      "outputs": [
        {
          "output_type": "stream",
          "name": "stdout",
          "text": [
            "'To Kill a Mockingbird' by Harper Lee, published in 1960.\n",
            "'1984' by George Orwell, published in 1949.\n"
          ]
        }
      ]
    },
    {
      "cell_type": "markdown",
      "source": [
        "18. Create a class House with attributes address and price. Create a derived class Mansion that adds an\n",
        "attribute number_of_rooms."
      ],
      "metadata": {
        "id": "Ir5goMyZRdlU"
      }
    },
    {
      "cell_type": "code",
      "source": [
        "\n",
        "class House:\n",
        "    def __init__(self, address, price):\n",
        "        self.address = address\n",
        "        self.price = price\n",
        "\n",
        "    def get_info(self):\n",
        "        \"\"\"Returns basic house information.\"\"\"\n",
        "        return f\"Address: {self.address}, Price: ${self.price:,}\"\n",
        "\n",
        "\n",
        "class Mansion(House):\n",
        "    def __init__(self, address, price, number_of_rooms):\n",
        "        super().__init__(address, price)\n",
        "        self.number_of_rooms = number_of_rooms\n",
        "\n",
        "    def get_info(self):\n",
        "        \"\"\"Returns mansion-specific details, including number of rooms.\"\"\"\n",
        "        return f\"{super().get_info()}, Rooms: {self.number_of_rooms}\"\n",
        "\n",
        "\n",
        "house = House(\"123 Main St\", 250000)\n",
        "mansion = Mansion(\"456 Luxury Ave\", 5000000, 15)\n",
        "\n",
        "print(house.get_info())\n",
        "print(mansion.get_info())\n"
      ],
      "metadata": {
        "colab": {
          "base_uri": "https://localhost:8080/"
        },
        "id": "qqiHfcKDRfv7",
        "outputId": "cfd5263c-ab62-4b0e-97b5-4af4b1f80a3b"
      },
      "execution_count": 24,
      "outputs": [
        {
          "output_type": "stream",
          "name": "stdout",
          "text": [
            "Address: 123 Main St, Price: $250,000\n",
            "Address: 456 Luxury Ave, Price: $5,000,000, Rooms: 15\n"
          ]
        }
      ]
    }
  ]
}